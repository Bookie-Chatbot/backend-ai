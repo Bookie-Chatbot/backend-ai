{
 "cells": [
  {
   "cell_type": "markdown",
   "metadata": {
    "id": "view-in-github"
   },
   "source": [
    "<a href=\"https://colab.research.google.com/github/jinjja-fun-trip/backend-ai/blob/main/backendAI.ipynb\" target=\"_parent\"><img src=\"https://colab.research.google.com/assets/colab-badge.svg\" alt=\"Open In Colab\"/></a>"
   ]
  },
  {
   "cell_type": "code",
   "execution_count": null,
   "metadata": {
    "colab": {
     "base_uri": "https://localhost:8080/"
    },
    "id": "Bsa-1SNaPq5z",
    "outputId": "c415c8f3-9ed9-454d-8f6d-d6082a382a69"
   },
   "outputs": [
    {
     "name": "stdout",
     "output_type": "stream",
     "text": [
      "테스트\n",
      "로컬\n"
     ]
    }
   ],
   "source": [
    "print(\"테스트\")\n",
    "print(\"로컬\")"
   ]
  },
  {
   "cell_type": "code",
   "execution_count": 1,
   "metadata": {
    "colab": {
     "base_uri": "https://localhost:8080/"
    },
    "executionInfo": {
     "elapsed": 15,
     "status": "ok",
     "timestamp": 1743150044477,
     "user": {
      "displayName": "jiin lee",
      "userId": "12365472909595515443"
     },
     "user_tz": -540
    },
    "id": "LarmZfHX1oth",
    "outputId": "6b18beda-6905-4712-c631-0663e52b4f12"
   },
   "outputs": [
    {
     "name": "stdout",
     "output_type": "stream",
     "text": [
      "연동 테스트용\n"
     ]
    }
   ],
   "source": [
    "print(\"연동 테스트용\")"
   ]
  },
  {
   "cell_type": "code",
   "execution_count": 3,
   "metadata": {},
   "outputs": [
    {
     "name": "stdout",
     "output_type": "stream",
     "text": [
      "비주얼 스튜디오 코드에서 작업한 내용입니다.\n"
     ]
    }
   ],
   "source": [
    "print(\"비주얼 스튜디오 코드에서 작업한 내용입니다.\")"
   ]
  },
  {
   "cell_type": "markdown",
   "metadata": {
    "id": "CwO3r7Ol1sJy"
   },
   "source": []
  }
 ],
 "metadata": {
  "colab": {
   "provenance": []
  },
  "kernelspec": {
   "display_name": "base",
   "language": "python",
   "name": "python3"
  },
  "language_info": {
   "codemirror_mode": {
    "name": "ipython",
    "version": 3
   },
   "file_extension": ".py",
   "mimetype": "text/x-python",
   "name": "python",
   "nbconvert_exporter": "python",
   "pygments_lexer": "ipython3",
   "version": "3.9.7"
  }
 },
 "nbformat": 4,
 "nbformat_minor": 0
}
